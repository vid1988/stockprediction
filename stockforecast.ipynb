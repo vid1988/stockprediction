{
  "nbformat": 4,
  "nbformat_minor": 0,
  "metadata": {
    "colab": {
      "name": "stockforecast.ipynb",
      "provenance": [],
      "collapsed_sections": [],
      "include_colab_link": true
    },
    "kernelspec": {
      "name": "python3",
      "display_name": "Python 3"
    }
  },
  "cells": [
    {
      "cell_type": "markdown",
      "metadata": {
        "id": "view-in-github",
        "colab_type": "text"
      },
      "source": [
        "<a href=\"https://colab.research.google.com/github/vid1988/stockprediction/blob/master/stockforecast.ipynb\" target=\"_parent\"><img src=\"https://colab.research.google.com/assets/colab-badge.svg\" alt=\"Open In Colab\"/></a>"
      ]
    },
    {
      "cell_type": "code",
      "metadata": {
        "id": "eDOSzAiBJBiv",
        "colab_type": "code",
        "colab": {}
      },
      "source": [
        "#imports and hardware startup\n",
        "import os, re, time, json\n",
        "import PIL.Image, PIL.ImageFont, PIL.ImageDraw\n",
        "import numpy as np\n",
        "import tensorflow as tf\n",
        "from matplotlib import pyplot as plt\n",
        "print(\"Tensorflow version \" + tf.__version__)\n",
        "\n",
        "IS_COLAB_BACKEND = 'COLAB_GPU' in os.environ  # this is always set on Colab, the value is 0 or 1 depending on GPU presence\n",
        "if IS_COLAB_BACKEND:\n",
        "  from google.colab import auth\n",
        "  # Authenticates the Colab machine and also the TPU using your\n",
        "  # credentials so that they can access your private GCS buckets.\n",
        "  auth.authenticate_user()\n",
        "\n",
        "\n",
        "# Detect hardware\n",
        "try:\n",
        "  tpu = tf.distribute.cluster_resolver.TPUClusterResolver() # TPU detection\n",
        "except ValueError:\n",
        "  tpu = None\n",
        "  gpus = tf.config.experimental.list_logical_devices(\"GPU\")\n",
        "    \n",
        "# Select appropriate distribution strategy\n",
        "if tpu:\n",
        "  tf.tpu.experimental.initialize_tpu_system(tpu)\n",
        "  strategy = tf.distribute.experimental.TPUStrategy(tpu, steps_per_run=128) # Going back and forth between TPU and host is expensive. Better to run 128 batches on the TPU before reporting back.\n",
        "  print('Running on TPU ', tpu.cluster_spec().as_dict()['worker'])  \n",
        "elif len(gpus) > 1:\n",
        "  strategy = tf.distribute.MirroredStrategy([gpu.name for gpu in gpus])\n",
        "  print('Running on multiple GPUs ', [gpu.name for gpu in gpus])\n",
        "elif len(gpus) == 1:\n",
        "  strategy = tf.distribute.get_strategy() # default strategy that works on CPU and single GPU\n",
        "  print('Running on single GPU ', gpus[0].name)\n",
        "else:\n",
        "  strategy = tf.distribute.get_strategy() # default strategy that works on CPU and single GPU\n",
        "  print('Running on CPU')\n",
        "print(\"Number of accelerators: \", strategy.num_replicas_in_sync)\n"
      ],
      "execution_count": 0,
      "outputs": []
    },
    {
      "cell_type": "code",
      "metadata": {
        "id": "U2jvn0laJpvf",
        "colab_type": "code",
        "colab": {}
      },
      "source": [
        "#model preperation (use external files, this is just for example) \n",
        "\n",
        "def make_model():\n",
        "    model = tf.keras.Sequential(\n",
        "      [\n",
        "        tf.keras.layers.Reshape(input_shape=(28*28,), target_shape=(28, 28, 1), name=\"image\"),\n",
        "        tf.keras.layers.ZeroPadding2D((2,2)), #reshape 28 x 28 to 32 x 32\n",
        "        \n",
        "\n",
        "        tf.keras.layers.Conv2D(filters=6, kernel_size=5, padding='valid', use_bias=True), # no bias necessary before batch norm\n",
        "        tf.keras.layers.Activation('relu'),\n",
        "        tf.keras.layers.AveragePooling2D(), \n",
        "       \n",
        "        tf.keras.layers.Conv2D(filters=16, kernel_size=5, padding='valid', use_bias=True),\n",
        "        tf.keras.layers.Activation('relu'),\n",
        "        tf.keras.layers.AveragePooling2D(),\n",
        "        tf.keras.layers.Flatten(),\n",
        "       \n",
        "        tf.keras.layers.Dense(120, use_bias=True),\n",
        "        tf.keras.layers.Activation('tanh'),\n",
        "\n",
        "        tf.keras.layers.Dense(84, use_bias=True),\n",
        "        tf.keras.layers.Activation('tanh'),\n",
        "       \n",
        "        tf.keras.layers.Dense(10, use_bias=True),\n",
        "        tf.keras.layers.Activation('softmax')\n",
        "\n",
        "      ])\n",
        "\n",
        "    model.compile(optimizer='adam', # learning rate will be set by LearningRateScheduler\n",
        "                  loss='categorical_crossentropy',\n",
        "                  metrics=['accuracy', tf.keras.metrics.CategoricalCrossentropy()])\n",
        "    return model\n",
        "    \n",
        "with strategy.scope():\n",
        "    model = make_model()\n",
        "\n",
        "# print model layers\n",
        "model.summary()\n",
        "\n",
        "# set up learning rate decay\n",
        "lr_decay = tf.keras.callbacks.LearningRateScheduler(\n",
        "    lambda epoch: LEARNING_RATE * LEARNING_RATE_EXP_DECAY**epoch,\n",
        "    verbose=True)"
      ],
      "execution_count": 0,
      "outputs": []
    },
    {
      "cell_type": "code",
      "metadata": {
        "id": "5KfxbLbRKBZx",
        "colab_type": "code",
        "colab": {}
      },
      "source": [
        "# training preferences and training start\n",
        "EPOCHS = 12\n",
        "steps_per_epoch = 60000//BATCH_SIZE  # 60,000 items in this dataset\n",
        "#steps_per_epoch=600\n",
        "print(\"Steps per epoch: \", steps_per_epoch)\n",
        "  \n",
        "# Little wrinkle: in the present version of Tensorfow (1.14), switching a TPU\n",
        "# between training and evaluation is slow (approx. 10 sec). For small models,\n",
        "# it is recommeneded to run a single eval at the end.\n",
        "history = model.fit(training_dataset,\n",
        "                    steps_per_epoch=steps_per_epoch, epochs=EPOCHS)#,validation_data=validation_dataset)\n",
        "\n",
        "final_stats = model.evaluate(validation_dataset, steps=1)\n",
        "print(\"Validation accuracy: \", final_stats)"
      ],
      "execution_count": 0,
      "outputs": []
    },
    {
      "cell_type": "code",
      "metadata": {
        "id": "DNJ_88s3KS0e",
        "colab_type": "code",
        "colab": {}
      },
      "source": [
        "# model save\n",
        "model.save('model.h5') #can be downloaded locally on the left side"
      ],
      "execution_count": 0,
      "outputs": []
    }
  ]
}